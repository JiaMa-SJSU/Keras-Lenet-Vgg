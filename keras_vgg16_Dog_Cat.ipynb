{
  "nbformat": 4,
  "nbformat_minor": 0,
  "metadata": {
    "colab": {
      "name": "keras-vgg16-dogVScat.ipynb",
      "provenance": [],
      "private_outputs": true,
      "collapsed_sections": [],
      "toc_visible": true
    },
    "kernelspec": {
      "name": "python3",
      "display_name": "Python 3"
    },
    "accelerator": "GPU"
  },
  "cells": [
    {
      "cell_type": "markdown",
      "metadata": {
        "id": "UWqoZdyK14HJ",
        "colab_type": "text"
      },
      "source": [
        "# Keras image classificaiton using VGG model"
      ]
    },
    {
      "cell_type": "code",
      "metadata": {
        "id": "fVj-phzXNEx4",
        "colab_type": "code",
        "colab": {}
      },
      "source": [
        "# !pip install 'gast==0.2.2'\n",
        "# try:\n",
        "#    %tensorflow_version 2.x\n",
        "# except Exception:\n",
        "#    pass"
      ],
      "execution_count": 0,
      "outputs": []
    },
    {
      "cell_type": "markdown",
      "metadata": {
        "id": "0Y_gqp4k2F-u",
        "colab_type": "text"
      },
      "source": [
        "__Import libraries__"
      ]
    },
    {
      "cell_type": "code",
      "metadata": {
        "id": "oVISJMRMINeX",
        "colab_type": "code",
        "colab": {}
      },
      "source": [
        "import numpy as np \n",
        "import pandas as pd \n",
        "\n",
        "from keras.preprocessing.image import ImageDataGenerator, load_img\n",
        "from keras.utils import to_categorical\n",
        "from sklearn.model_selection import train_test_split\n",
        "import matplotlib.pyplot as plt\n",
        "import random"
      ],
      "execution_count": 0,
      "outputs": []
    },
    {
      "cell_type": "markdown",
      "metadata": {
        "id": "iITwKdHY2NgR",
        "colab_type": "text"
      },
      "source": [
        "__Mount to google drive to access images files__"
      ]
    },
    {
      "cell_type": "code",
      "metadata": {
        "id": "pdMhLwilIi47",
        "colab_type": "code",
        "colab": {}
      },
      "source": [
        "from google.colab import drive\n",
        "drive.mount('/content/drive')"
      ],
      "execution_count": 0,
      "outputs": []
    },
    {
      "cell_type": "code",
      "metadata": {
        "id": "g625efKuIZAm",
        "colab_type": "code",
        "colab": {}
      },
      "source": [
        "import os\n",
        "print(os.listdir(\"/content/drive/My Drive/DogsvsCats\"))"
      ],
      "execution_count": 0,
      "outputs": []
    },
    {
      "cell_type": "code",
      "metadata": {
        "id": "BZ_POOH5Kix7",
        "colab_type": "code",
        "colab": {}
      },
      "source": [
        "filenames = os.listdir(\"/content/drive/My Drive/DogsvsCats/train\")\n",
        "categories = []\n",
        "for filename in filenames:\n",
        "    category = filename.split('.')[0]\n",
        "    if category == 'dog':\n",
        "        categories.append(1)\n",
        "    else:\n",
        "        categories.append(0)\n",
        "\n",
        "df = pd.DataFrame({\n",
        "    'filename': filenames,\n",
        "    'category': categories\n",
        "})\n",
        "df.head()"
      ],
      "execution_count": 0,
      "outputs": []
    },
    {
      "cell_type": "code",
      "metadata": {
        "id": "d3wV-CKoN_do",
        "colab_type": "code",
        "colab": {}
      },
      "source": [
        "sample = random.choice(filenames)\n",
        "image = load_img(\"/content/drive/My Drive/DogsvsCats/train/\"+sample)\n",
        "plt.imshow(image)"
      ],
      "execution_count": 0,
      "outputs": []
    },
    {
      "cell_type": "markdown",
      "metadata": {
        "id": "qNQV6CA1P6fO",
        "colab_type": "text"
      },
      "source": [
        "# VGG MODEL"
      ]
    },
    {
      "cell_type": "code",
      "metadata": {
        "id": "IKId2m87P-Jb",
        "colab_type": "code",
        "colab": {}
      },
      "source": [
        "from keras.models import Sequential\n",
        "from keras.layers.core import Activation\n",
        "from keras.layers.core import Flatten\n",
        "from keras.layers.core import Dropout\n",
        "from keras.layers.core import Dense\n",
        "from keras.layers.normalization import BatchNormalization\n",
        "from keras.layers.convolutional import Conv2D\n",
        "from keras.layers.convolutional import MaxPooling2D\n",
        "from keras.layers import GlobalMaxPooling2D\n",
        "from keras import backend as K\n",
        "from keras import optimizers"
      ],
      "execution_count": 0,
      "outputs": []
    },
    {
      "cell_type": "code",
      "metadata": {
        "id": "UFSvzi3aQFLt",
        "colab_type": "code",
        "colab": {}
      },
      "source": [
        "input_shape = (224, 224, 3)\n",
        "model = Sequential([\n",
        "Conv2D(64, (3, 3), input_shape=input_shape, padding='same', activation='relu'),\n",
        "Conv2D(64, (3, 3), activation='relu', padding='same'),\n",
        "MaxPooling2D(pool_size=(2, 2), strides=(2, 2)),\n",
        "Conv2D(128, (3, 3), activation='relu', padding='same'),\n",
        "Conv2D(128, (3, 3), activation='relu', padding='same',),\n",
        "MaxPooling2D(pool_size=(2, 2), strides=(2, 2)),\n",
        "Conv2D(256, (3, 3), activation='relu', padding='same',),\n",
        "Conv2D(256, (3, 3), activation='relu', padding='same',),\n",
        "Conv2D(256, (3, 3), activation='relu', padding='same',),\n",
        "MaxPooling2D(pool_size=(2, 2), strides=(2, 2)),\n",
        "Conv2D(512, (3, 3), activation='relu', padding='same',),\n",
        "Conv2D(512, (3, 3), activation='relu', padding='same',),\n",
        "Conv2D(512, (3, 3), activation='relu', padding='same',),\n",
        "MaxPooling2D(pool_size=(2, 2), strides=(2, 2)),\n",
        "Conv2D(512, (3, 3), activation='relu', padding='same',),\n",
        "Conv2D(512, (3, 3), activation='relu', padding='same',),\n",
        "Conv2D(512, (3, 3), activation='relu', padding='same',),\n",
        "MaxPooling2D(pool_size=(2, 2), strides=(2, 2)),\n",
        "GlobalMaxPooling2D(),\n",
        "Dense(512,activation='relu'),\n",
        "Dropout(0.5),\n",
        "Dense(1, activation='sigmoid')\n",
        "])\n",
        "\n",
        "model.compile(loss='binary_crossentropy',\n",
        "              optimizer=optimizers.SGD(lr=1e-4, momentum=0.9),\n",
        "              metrics=['accuracy'])\n",
        "\n",
        "model.summary()\n"
      ],
      "execution_count": 0,
      "outputs": []
    },
    {
      "cell_type": "code",
      "metadata": {
        "id": "7bTvQGmsVKZZ",
        "colab_type": "code",
        "colab": {}
      },
      "source": [
        "train_df, validate_df = train_test_split(df, test_size=0.1)\n",
        "train_df = train_df.reset_index()\n",
        "validate_df = validate_df.reset_index()\n",
        "\n",
        "# validate_df = validate_df.sample(n=100).reset_index() # use for fast testing code purpose\n",
        "# train_df = train_df.sample(n=1800).reset_index() # use for fast testing code purpose\n",
        "\n",
        "total_train = train_df.shape[0]\n",
        "total_validate = validate_df.shape[0]"
      ],
      "execution_count": 0,
      "outputs": []
    },
    {
      "cell_type": "code",
      "metadata": {
        "id": "8nFuQafdVQff",
        "colab_type": "code",
        "colab": {}
      },
      "source": [
        "image_size = 224\n",
        "epochs = 5\n",
        "batch_size = 16\n",
        "train_df['category']= train_df['category'].astype('str')\n",
        "train_datagen = ImageDataGenerator(\n",
        "    rotation_range=15,\n",
        "    rescale=1./255,\n",
        "    shear_range=0.2,\n",
        "    zoom_range=0.2,\n",
        "    horizontal_flip=True,\n",
        "    fill_mode='nearest',\n",
        "    width_shift_range=0.1,\n",
        "    height_shift_range=0.1\n",
        ")\n",
        "\n",
        "train_generator = train_datagen.flow_from_dataframe(\n",
        "    train_df, \n",
        "    \"/content/drive/My Drive/DogsvsCats/train/\", \n",
        "    x_col='filename',\n",
        "    y_col='category',\n",
        "    class_mode='binary',\n",
        "    target_size=(image_size, image_size),\n",
        "    batch_size=batch_size\n",
        ")"
      ],
      "execution_count": 0,
      "outputs": []
    },
    {
      "cell_type": "code",
      "metadata": {
        "id": "m2VWBbyIYK_b",
        "colab_type": "code",
        "colab": {}
      },
      "source": [
        "validate_df['category']= validate_df['category'].astype('str')\n",
        "validation_datagen = ImageDataGenerator(rescale=1./255)\n",
        "validation_generator = validation_datagen.flow_from_dataframe(\n",
        "    validate_df, \n",
        "    \"/content/drive/My Drive/DogsvsCats/train/\", \n",
        "    x_col='filename',\n",
        "    y_col='category',\n",
        "    class_mode='binary',\n",
        "    target_size=(image_size, image_size),\n",
        "    batch_size=batch_size\n",
        ")"
      ],
      "execution_count": 0,
      "outputs": []
    },
    {
      "cell_type": "code",
      "metadata": {
        "id": "kDPsAsuCXsQg",
        "colab_type": "code",
        "colab": {}
      },
      "source": [
        "example_df = train_df\n",
        "example_generator = train_datagen.flow_from_dataframe(\n",
        "    example_df, \n",
        "    \"/content/drive/My Drive/DogsvsCats/train/\", \n",
        "    x_col='filename',\n",
        "    y_col='category',\n",
        "    class_mode='binary'\n",
        ")\n",
        "plt.figure(figsize=(12, 12))\n",
        "for i in range(0, 9):\n",
        "    plt.subplot(3, 3, i+1)\n",
        "    for X_batch, Y_batch in example_generator:\n",
        "        image = X_batch[0]\n",
        "        plt.imshow(image)\n",
        "        break\n",
        "plt.tight_layout()\n",
        "plt.show()"
      ],
      "execution_count": 0,
      "outputs": []
    },
    {
      "cell_type": "code",
      "metadata": {
        "id": "6-beKh0MZy8Y",
        "colab_type": "code",
        "colab": {}
      },
      "source": [
        "history = model.fit_generator(\n",
        "    train_generator,\n",
        "    epochs=epochs,\n",
        "    validation_data=validation_generator,\n",
        "    validation_steps=total_validate//batch_size,\n",
        "    steps_per_epoch=total_train//batch_size)"
      ],
      "execution_count": 0,
      "outputs": []
    },
    {
      "cell_type": "code",
      "metadata": {
        "id": "6T4MSdRVZ0C4",
        "colab_type": "code",
        "colab": {}
      },
      "source": [
        "loss, accuracy = model.evaluate_generator(validation_generator, total_validate//batch_size, workers=12)\n",
        "print(\"Test: accuracy = %f  ;  loss = %f \" % (accuracy, loss))"
      ],
      "execution_count": 0,
      "outputs": []
    },
    {
      "cell_type": "code",
      "metadata": {
        "id": "CcvJi69cZzUv",
        "colab_type": "code",
        "colab": {}
      },
      "source": [
        "def plot_model_history(model_history, acc='acc', val_acc='val_acc'):\n",
        "    fig, axs = plt.subplots(1,2,figsize=(15,5))\n",
        "    axs[0].plot(range(1,len(model_history.history[acc])+1),model_history.history[acc])\n",
        "    axs[0].plot(range(1,len(model_history.history[val_acc])+1),model_history.history[val_acc])\n",
        "    axs[0].set_title('Model Accuracy')\n",
        "    axs[0].set_ylabel('Accuracy')\n",
        "    axs[0].set_xlabel('Epoch')\n",
        "    axs[0].set_xticks(np.arange(1,len(model_history.history[acc])+1),len(model_history.history[acc])/10)\n",
        "    axs[0].legend(['train', 'val'], loc='best')\n",
        "    axs[1].plot(range(1,len(model_history.history['loss'])+1),model_history.history['loss'])\n",
        "    axs[1].plot(range(1,len(model_history.history['val_loss'])+1),model_history.history['val_loss'])\n",
        "    axs[1].set_title('Model Loss')\n",
        "    axs[1].set_ylabel('Loss')\n",
        "    axs[1].set_xlabel('Epoch')\n",
        "    axs[1].set_xticks(np.arange(1,len(model_history.history['loss'])+1),len(model_history.history['loss'])/10)\n",
        "    axs[1].legend(['train', 'val'], loc='best')\n",
        "    plt.show()\n",
        "    \n",
        "plot_model_history(history)"
      ],
      "execution_count": 0,
      "outputs": []
    }
  ]
}